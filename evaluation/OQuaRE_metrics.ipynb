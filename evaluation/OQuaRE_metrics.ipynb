{
 "cells": [
  {
   "cell_type": "markdown",
   "id": "c83bc1ec",
   "metadata": {},
   "source": [
    "# OQuaRE metrics"
   ]
  },
  {
   "cell_type": "markdown",
   "id": "4afadf3f",
   "metadata": {},
   "source": [
    "Manual metrics"
   ]
  },
  {
   "cell_type": "code",
   "execution_count": 2,
   "id": "44e57f11",
   "metadata": {},
   "outputs": [
    {
     "data": {
      "text/plain": [
       "<Graph identifier=Na123977a0f8f405a805856c54ced4e4f (<class 'rdflib.graph.Graph'>)>"
      ]
     },
     "execution_count": 2,
     "metadata": {},
     "output_type": "execute_result"
    }
   ],
   "source": [
    "#install rdflib (pip install rdflib)\n",
    "\n",
    "import rdflib\n",
    "from rdflib import Graph\n",
    "\n",
    "graph = Graph()\n",
    "graph.parse(r\"C:\\Users\\vivia\\Downloads\\diabetes-ontologies.owl (3)\\diabetes-ontologies-owl-REVISION-HEAD\\urn_webprotege_ontology_75d9f904-421a-4585-ab77-96e5fc3d5fb3.owl\", format=\"xml\")"
   ]
  },
  {
   "cell_type": "code",
   "execution_count": 3,
   "id": "64f50860",
   "metadata": {},
   "outputs": [
    {
     "name": "stdout",
     "output_type": "stream",
     "text": [
      "Number of classes: 199\n"
     ]
    }
   ],
   "source": [
    "#Query to obtain a class\n",
    "query = \"\"\"\n",
    "    SELECT (COUNT(?class) AS ?count)\n",
    "    WHERE {\n",
    "        ?class a owl:Class .\n",
    "    }\n",
    "\"\"\"\n",
    "\n",
    "# Execute the SPARQL query\n",
    "results = graph.query(query)\n",
    "\n",
    "# Process the query results\n",
    "for row in results:\n",
    "    class_count = row[\"count\"]\n",
    "    print(\"Number of classes:\", class_count)"
   ]
  },
  {
   "cell_type": "markdown",
   "id": "8e70b37c",
   "metadata": {},
   "source": [
    "# NOMOnto"
   ]
  },
  {
   "cell_type": "code",
   "execution_count": 7,
   "id": "d4bc6d4e",
   "metadata": {},
   "outputs": [
    {
     "name": "stdout",
     "output_type": "stream",
     "text": [
      "1017\n",
      "NOMOnto (Number of Properties): 5.110552763819095\n"
     ]
    }
   ],
   "source": [
    "from rdflib import Graph, Literal, Namespace, RDF\n",
    "\n",
    "# Define the OWL, RDF, and SKOS namespaces\n",
    "owl = Namespace(\"http://www.w3.org/2002/07/owl#\")\n",
    "rdf = Namespace(\"http://www.w3.org/1999/02/22-rdf-syntax-ns#\")\n",
    "skos = Namespace(\"http://www.w3.org/2004/02/skos/core#\")\n",
    "\n",
    "#Create a dictionary to store the property count for each class\n",
    "class_properties = {}\n",
    "\n",
    "# Query for each class and count the properties\n",
    "query = \"\"\"\n",
    "    PREFIX owl: <http://www.w3.org/2002/07/owl#>\n",
    "    SELECT ?class (COUNT(?property) AS ?propertiesCount)\n",
    "    WHERE {\n",
    "        ?class a owl:Class .\n",
    "        ?class ?property ?value .\n",
    "        FILTER (isURI(?property))\n",
    "    }\n",
    "    GROUP BY ?class\n",
    "\"\"\"\n",
    "results = graph.query(query, initNs={\"owl\": owl})\n",
    "for row in results:\n",
    "    class_uri = row[\"class\"].toPython()\n",
    "    properties_count = int(row[\"propertiesCount\"].value)  # Convert Literal to integer\n",
    "    class_properties[class_uri] = properties_count\n",
    "\n",
    "# Calculate the sum of properties count\n",
    "properties_sum = sum(class_properties.values())\n",
    "print(properties_sum)\n",
    "\n",
    "# Calculate the sum of class count\n",
    "classes_count = len(list(graph.subjects(predicate=RDF.type, object=owl.Class)))\n",
    "\n",
    "# Calculate the NOMOnto metric\n",
    "NOMOnto = properties_sum / classes_count\n",
    "\n",
    "# Print the calculated NOMOnto value\n",
    "print(\"NOMOnto (Number of Properties):\", NOMOnto)\n"
   ]
  },
  {
   "cell_type": "markdown",
   "id": "552fee5a",
   "metadata": {},
   "source": [
    "# WMCOnto"
   ]
  },
  {
   "cell_type": "code",
   "execution_count": 10,
   "id": "7562246a",
   "metadata": {},
   "outputs": [
    {
     "name": "stdout",
     "output_type": "stream",
     "text": [
      "Weighted Method Count (WMCOnto): 6.849246231155779\n"
     ]
    }
   ],
   "source": [
    "from rdflib import Graph, Literal, BNode, RDF, URIRef\n",
    "from rdflib.plugins.sparql import prepareQuery\n",
    "\n",
    "\n",
    "query_properties_relationships_per_class = prepareQuery(\n",
    "    \"\"\"\n",
    "    SELECT ?class (COUNT(?property) AS ?propertiesCount) (COUNT(?relationship) AS ?relationshipsCount)\n",
    "    WHERE {\n",
    "        ?class rdf:type owl:Class .\n",
    "        OPTIONAL { ?class ?property ?value FILTER(isIRI(?value)) } .\n",
    "        OPTIONAL { ?subject ?relationship ?class FILTER(isIRI(?subject)) } .\n",
    "    }\n",
    "    GROUP BY ?class\n",
    "    \"\"\",\n",
    "    initNs={\"rdf\": Namespace(\"http://www.w3.org/1999/02/22-rdf-syntax-ns#\"), \"owl\": Namespace(\"http://www.w3.org/2002/07/owl#\")}\n",
    ")\n",
    "\n",
    "# Execute the SPARQL query\n",
    "properties_relationships_per_class = graph.query(query_properties_relationships_per_class)\n",
    "\n",
    "# Count the total number of properties, relationships, and classes\n",
    "total_properties = 0\n",
    "total_relationships = 0\n",
    "num_classes = 0\n",
    "\n",
    "for result in properties_relationships_per_class:\n",
    "    total_properties += int(result['propertiesCount'].value)\n",
    "    total_relationships += int(result['relationshipsCount'].value)\n",
    "    num_classes += 1\n",
    "\n",
    "# Calculate WMCOnto\n",
    "if num_classes > 0:\n",
    "    WMCOnto = (total_properties + total_relationships) / num_classes\n",
    "else:\n",
    "    WMCOnto = 0\n",
    "\n",
    "print(\"Weighted Method Count (WMCOnto):\", WMCOnto)"
   ]
  },
  {
   "cell_type": "markdown",
   "id": "858980af",
   "metadata": {},
   "source": [
    "# INROnto"
   ]
  },
  {
   "cell_type": "code",
   "execution_count": 11,
   "id": "0fc3afdb",
   "metadata": {},
   "outputs": [
    {
     "name": "stdout",
     "output_type": "stream",
     "text": [
      "Relationships per class (INROnto): 3.0854271356783918\n"
     ]
    }
   ],
   "source": [
    "# SPARQL query to count the relationships for each class\n",
    "query_relationships_per_class = prepareQuery(\n",
    "    \"\"\"\n",
    "    SELECT ?class (COUNT(?relationship) AS ?relationshipCount)\n",
    "    WHERE {\n",
    "        ?class rdf:type owl:Class .\n",
    "        ?class ?relationship ?object .\n",
    "        FILTER (?relationship != rdf:type && ?relationship != rdfs:subClassOf) .\n",
    "    }\n",
    "    GROUP BY ?class\n",
    "    \"\"\"\n",
    "    ,\n",
    "    initNs={\"rdf\": Namespace(\"http://www.w3.org/1999/02/22-rdf-syntax-ns#\"), \"owl\": Namespace(\"http://www.w3.org/2002/07/owl#\"), \"rdfs\": Namespace(\"http://www.w3.org/2000/01/rdf-schema#\")}\n",
    ")\n",
    "\n",
    "# Execute the SPARQL query to count the relationships per class\n",
    "relationships_per_class = graph.query(query_relationships_per_class)\n",
    "\n",
    "# Calculate the total number of relationships and the total number of classes\n",
    "total_relationships = 0\n",
    "total_classes = 0\n",
    "\n",
    "for result in relationships_per_class:\n",
    "    relationship_count = int(result['relationshipCount'].value)\n",
    "    total_relationships += relationship_count\n",
    "    total_classes += 1\n",
    "\n",
    "# Calculate INROnto\n",
    "if total_classes > 0:\n",
    "    INROnto = total_relationships / total_classes\n",
    "else:\n",
    "    INROnto = 0\n",
    "\n",
    "print(\"Relationships per class (INROnto):\", INROnto)"
   ]
  },
  {
   "cell_type": "markdown",
   "id": "e1ffb898",
   "metadata": {},
   "source": [
    "Semi-automatic metrics"
   ]
  },
  {
   "cell_type": "code",
   "execution_count": 12,
   "id": "66260ed5",
   "metadata": {},
   "outputs": [
    {
     "data": {
      "text/plain": [
       "<Graph identifier=Ndcc8fd19d107440fbeb4f6316539fb15 (<class 'rdflib.graph.Graph'>)>"
      ]
     },
     "execution_count": 12,
     "metadata": {},
     "output_type": "execute_result"
    }
   ],
   "source": [
    "import rdflib\n",
    "from rdflib import Graph\n",
    "\n",
    "graph = Graph()\n",
    "graph.parse(r\"C:\\Users\\vivia\\Downloads\\automatic_diabetes-ontologies.owl (4)\\automatic_diabetes-ontologies-owl-REVISION-HEAD\\urn_webprotege_ontology_84ce57ae-9d89-42e7-97a5-80257d5173b4.owl\", format=\"xml\")"
   ]
  },
  {
   "cell_type": "code",
   "execution_count": 13,
   "id": "ebfa8aee",
   "metadata": {},
   "outputs": [
    {
     "name": "stdout",
     "output_type": "stream",
     "text": [
      "Number of classes: 219\n"
     ]
    }
   ],
   "source": [
    "#Query to obtain a class\n",
    "query = \"\"\"\n",
    "    SELECT (COUNT(?class) AS ?count)\n",
    "    WHERE {\n",
    "        ?class a owl:Class .\n",
    "    }\n",
    "\"\"\"\n",
    "\n",
    "# Execute the SPARQL query\n",
    "results = graph.query(query)\n",
    "\n",
    "# Process the query results\n",
    "for row in results:\n",
    "    class_count = row[\"count\"]\n",
    "    print(\"Number of classes:\", class_count)"
   ]
  },
  {
   "cell_type": "markdown",
   "id": "e290234b",
   "metadata": {},
   "source": [
    "# NOMOnto"
   ]
  },
  {
   "cell_type": "code",
   "execution_count": 14,
   "id": "0a69f01d",
   "metadata": {},
   "outputs": [
    {
     "name": "stdout",
     "output_type": "stream",
     "text": [
      "1107\n",
      "NOMOnto (Number of Properties): 5.054794520547945\n"
     ]
    }
   ],
   "source": [
    "from rdflib import Graph, Literal, Namespace, RDF\n",
    "\n",
    "# Define the OWL, RDF, and SKOS namespaces\n",
    "owl = Namespace(\"http://www.w3.org/2002/07/owl#\")\n",
    "rdf = Namespace(\"http://www.w3.org/1999/02/22-rdf-syntax-ns#\")\n",
    "skos = Namespace(\"http://www.w3.org/2004/02/skos/core#\")\n",
    "\n",
    "#Create a dictionary to store the property count for each class\n",
    "class_properties = {}\n",
    "\n",
    "# Query for each class and count the properties\n",
    "query = \"\"\"\n",
    "    PREFIX owl: <http://www.w3.org/2002/07/owl#>\n",
    "    SELECT ?class (COUNT(?property) AS ?propertiesCount)\n",
    "    WHERE {\n",
    "        ?class a owl:Class .\n",
    "        ?class ?property ?value .\n",
    "        FILTER (isURI(?property))\n",
    "    }\n",
    "    GROUP BY ?class\n",
    "\"\"\"\n",
    "results = graph.query(query, initNs={\"owl\": owl})\n",
    "for row in results:\n",
    "    class_uri = row[\"class\"].toPython()\n",
    "    properties_count = int(row[\"propertiesCount\"].value)  # Convert Literal to integer\n",
    "    class_properties[class_uri] = properties_count\n",
    "\n",
    "# Calculate the sum of properties count\n",
    "properties_sum = sum(class_properties.values())\n",
    "print(properties_sum)\n",
    "\n",
    "# Calculate the sum of class count\n",
    "classes_count = len(list(graph.subjects(predicate=RDF.type, object=owl.Class)))\n",
    "\n",
    "# Calculate the NOMOnto metric\n",
    "NOMOnto = properties_sum / classes_count\n",
    "\n",
    "# Print the calculated NOMOnto value\n",
    "print(\"NOMOnto (Number of Properties):\", NOMOnto)\n"
   ]
  },
  {
   "cell_type": "markdown",
   "id": "9e0e5651",
   "metadata": {},
   "source": [
    "# WMCOnto"
   ]
  },
  {
   "cell_type": "code",
   "execution_count": 15,
   "id": "8bc12605",
   "metadata": {},
   "outputs": [
    {
     "name": "stdout",
     "output_type": "stream",
     "text": [
      "Weighted Method Count (WMCOnto): 6.894977168949771\n"
     ]
    }
   ],
   "source": [
    "from rdflib import Graph, Literal, BNode, RDF, URIRef\n",
    "from rdflib.plugins.sparql import prepareQuery\n",
    "\n",
    "\n",
    "query_properties_relationships_per_class = prepareQuery(\n",
    "    \"\"\"\n",
    "    SELECT ?class (COUNT(?property) AS ?propertiesCount) (COUNT(?relationship) AS ?relationshipsCount)\n",
    "    WHERE {\n",
    "        ?class rdf:type owl:Class .\n",
    "        OPTIONAL { ?class ?property ?value FILTER(isIRI(?value)) } .\n",
    "        OPTIONAL { ?subject ?relationship ?class FILTER(isIRI(?subject)) } .\n",
    "    }\n",
    "    GROUP BY ?class\n",
    "    \"\"\",\n",
    "    initNs={\"rdf\": Namespace(\"http://www.w3.org/1999/02/22-rdf-syntax-ns#\"), \"owl\": Namespace(\"http://www.w3.org/2002/07/owl#\")}\n",
    ")\n",
    "\n",
    "# Execute the SPARQL query\n",
    "properties_relationships_per_class = graph.query(query_properties_relationships_per_class)\n",
    "\n",
    "# Count the total number of properties, relationships, and classes\n",
    "total_properties = 0\n",
    "total_relationships = 0\n",
    "num_classes = 0\n",
    "\n",
    "for result in properties_relationships_per_class:\n",
    "    total_properties += int(result['propertiesCount'].value)\n",
    "    total_relationships += int(result['relationshipsCount'].value)\n",
    "    num_classes += 1\n",
    "\n",
    "# Calculate WMCOnto\n",
    "if num_classes > 0:\n",
    "    WMCOnto = (total_properties + total_relationships) / num_classes\n",
    "else:\n",
    "    WMCOnto = 0\n",
    "\n",
    "print(\"Weighted Method Count (WMCOnto):\", WMCOnto)"
   ]
  },
  {
   "cell_type": "markdown",
   "id": "5b1ae9e0",
   "metadata": {},
   "source": [
    "# INROnto"
   ]
  },
  {
   "cell_type": "code",
   "execution_count": 16,
   "id": "8548049e",
   "metadata": {},
   "outputs": [
    {
     "name": "stdout",
     "output_type": "stream",
     "text": [
      "Relationships per class (INROnto): 3.0547945205479454\n"
     ]
    }
   ],
   "source": [
    "# SPARQL query to count the relationships for each class\n",
    "query_relationships_per_class = prepareQuery(\n",
    "    \"\"\"\n",
    "    SELECT ?class (COUNT(?relationship) AS ?relationshipCount)\n",
    "    WHERE {\n",
    "        ?class rdf:type owl:Class .\n",
    "        ?class ?relationship ?object .\n",
    "        FILTER (?relationship != rdf:type && ?relationship != rdfs:subClassOf) .\n",
    "    }\n",
    "    GROUP BY ?class\n",
    "    \"\"\"\n",
    "    ,\n",
    "    initNs={\"rdf\": Namespace(\"http://www.w3.org/1999/02/22-rdf-syntax-ns#\"), \"owl\": Namespace(\"http://www.w3.org/2002/07/owl#\"), \"rdfs\": Namespace(\"http://www.w3.org/2000/01/rdf-schema#\")}\n",
    ")\n",
    "\n",
    "# Execute the SPARQL query to count the relationships per class\n",
    "relationships_per_class = graph.query(query_relationships_per_class)\n",
    "\n",
    "# Calculate the total number of relationships and the total number of classes\n",
    "total_relationships = 0\n",
    "total_classes = 0\n",
    "\n",
    "for result in relationships_per_class:\n",
    "    relationship_count = int(result['relationshipCount'].value)\n",
    "    total_relationships += relationship_count\n",
    "    total_classes += 1\n",
    "\n",
    "# Calculate INROnto\n",
    "if total_classes > 0:\n",
    "    INROnto = total_relationships / total_classes\n",
    "else:\n",
    "    INROnto = 0\n",
    "\n",
    "print(\"Relationships per class (INROnto):\", INROnto)"
   ]
  }
 ],
 "metadata": {
  "kernelspec": {
   "display_name": "Python 3 (ipykernel)",
   "language": "python",
   "name": "python3"
  },
  "language_info": {
   "codemirror_mode": {
    "name": "ipython",
    "version": 3
   },
   "file_extension": ".py",
   "mimetype": "text/x-python",
   "name": "python",
   "nbconvert_exporter": "python",
   "pygments_lexer": "ipython3",
   "version": "3.9.13"
  }
 },
 "nbformat": 4,
 "nbformat_minor": 5
}
