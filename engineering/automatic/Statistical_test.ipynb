{
 "cells": [
  {
   "cell_type": "markdown",
   "id": "39637ef9-9020-470a-91f0-810e0faa37fe",
   "metadata": {},
   "source": [
    "Statistical test by using fisher_exact"
   ]
  },
  {
   "cell_type": "code",
   "execution_count": 1,
   "id": "481421f6-610e-4723-90e9-d46005045339",
   "metadata": {},
   "outputs": [
    {
     "name": "stdout",
     "output_type": "stream",
     "text": [
      "Odds Ratio: 1.484375\n",
      "P-value: 0.6088940755009057\n"
     ]
    }
   ],
   "source": [
    "from scipy.stats import fisher_exact\n",
    "\n",
    "# The contingency table\n",
    "table = [[15, 16], [12, 19]]\n",
    "\n",
    "# Perform Fisher's exact test\n",
    "oddsratio, pvalue = fisher_exact(table)\n",
    "\n",
    "print(\"Odds Ratio:\", oddsratio)\n",
    "print(\"P-value:\", pvalue)\n"
   ]
  },
  {
   "cell_type": "code",
   "execution_count": null,
   "id": "0317e7dc-8176-4819-b28c-3069878cb389",
   "metadata": {},
   "outputs": [],
   "source": []
  }
 ],
 "metadata": {
  "kernelspec": {
   "display_name": "Python 3 (ipykernel)",
   "language": "python",
   "name": "python3"
  },
  "language_info": {
   "codemirror_mode": {
    "name": "ipython",
    "version": 3
   },
   "file_extension": ".py",
   "mimetype": "text/x-python",
   "name": "python",
   "nbconvert_exporter": "python",
   "pygments_lexer": "ipython3",
   "version": "3.9.13"
  }
 },
 "nbformat": 4,
 "nbformat_minor": 5
}
